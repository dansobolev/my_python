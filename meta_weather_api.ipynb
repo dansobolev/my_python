{
 "cells": [
  {
   "cell_type": "code",
   "execution_count": 1,
   "metadata": {},
   "outputs": [],
   "source": [
    "import numpy as np\n",
    "import pandas as pd\n",
    "from pprint import pprint as pp\n",
    "import requests"
   ]
  },
  {
   "cell_type": "code",
   "execution_count": 2,
   "metadata": {},
   "outputs": [],
   "source": [
    "json_city = requests.get(\"https://www.metaweather.com/api/location/search/?query=St Petersburg\").json()"
   ]
  },
  {
   "cell_type": "code",
   "execution_count": 3,
   "metadata": {},
   "outputs": [
    {
     "name": "stdout",
     "output_type": "stream",
     "text": [
      "[{'latt_long': '59.932739,30.306721',\n",
      "  'location_type': 'City',\n",
      "  'title': 'St Petersburg',\n",
      "  'woeid': 2123260}]\n"
     ]
    }
   ],
   "source": [
    "pp(json_city)"
   ]
  },
  {
   "cell_type": "code",
   "execution_count": 4,
   "metadata": {},
   "outputs": [],
   "source": [
    "ident = json_city[0][\"woeid\"]"
   ]
  },
  {
   "cell_type": "code",
   "execution_count": 5,
   "metadata": {},
   "outputs": [
    {
     "name": "stdout",
     "output_type": "stream",
     "text": [
      "2123260\n"
     ]
    }
   ],
   "source": [
    "print(ident)"
   ]
  },
  {
   "cell_type": "code",
   "execution_count": 6,
   "metadata": {},
   "outputs": [
    {
     "name": "stdout",
     "output_type": "stream",
     "text": [
      "[{'air_pressure': 1016.78,\n",
      "  'applicable_date': '2019-10-01',\n",
      "  'created': '2019-09-24T13:20:29.928417Z',\n",
      "  'humidity': 79,\n",
      "  'id': 4921276093169664,\n",
      "  'max_temp': 20.645,\n",
      "  'min_temp': 17.0,\n",
      "  'predictability': 71,\n",
      "  'the_temp': 27.77,\n",
      "  'visibility': 9.821393064503301,\n",
      "  'weather_state_abbr': 'hc',\n",
      "  'weather_state_name': 'Heavy Cloud',\n",
      "  'wind_direction': 72.0,\n",
      "  'wind_direction_compass': 'ENE',\n",
      "  'wind_speed': 4.778770778652668},\n",
      " {'air_pressure': 1016.78,\n",
      "  'applicable_date': '2019-10-01',\n",
      "  'created': '2019-09-24T10:20:28.899246Z',\n",
      "  'humidity': 69,\n",
      "  'id': 5267344106455040,\n",
      "  'max_temp': 20.490000000000002,\n",
      "  'min_temp': 16.41,\n",
      "  'predictability': 71,\n",
      "  'the_temp': 27.77,\n",
      "  'visibility': 9.859918078422016,\n",
      "  'weather_state_abbr': 'hc',\n",
      "  'weather_state_name': 'Heavy Cloud',\n",
      "  'wind_direction': 28.999999999999996,\n",
      "  'wind_direction_compass': 'NNE',\n",
      "  'wind_speed': 4.908770778652668},\n",
      " {'air_pressure': 1015.96,\n",
      "  'applicable_date': '2019-10-01',\n",
      "  'created': '2019-09-24T07:20:28.915907Z',\n",
      "  'humidity': 71,\n",
      "  'id': 4673607827456000,\n",
      "  'max_temp': 21.03,\n",
      "  'min_temp': 16.605,\n",
      "  'predictability': 77,\n",
      "  'the_temp': 28.32,\n",
      "  'visibility': 9.859918078422016,\n",
      "  'weather_state_abbr': 'hr',\n",
      "  'weather_state_name': 'Heavy Rain',\n",
      "  'wind_direction': 27.5,\n",
      "  'wind_direction_compass': 'NNE',\n",
      "  'wind_speed': 4.983335321721149}]\n"
     ]
    }
   ],
   "source": [
    "pp(requests.get(\"https://www.metaweather.com/api/location/\"+ str(ident)+\"/2019/10/1/\").json()[:3])"
   ]
  },
  {
   "cell_type": "markdown",
   "metadata": {},
   "source": [
    "<h1>Задание</h1>"
   ]
  },
  {
   "cell_type": "code",
   "execution_count": 7,
   "metadata": {},
   "outputs": [
    {
     "data": {
      "text/plain": [
       "25.724312499999996"
      ]
     },
     "execution_count": 7,
     "metadata": {},
     "output_type": "execute_result"
    }
   ],
   "source": [
    "lst=[]\n",
    "for i in range(24,28):\n",
    "    day_data = pd.DataFrame(requests.get(\"https://www.metaweather.com/api/location/\"+ str(ident)+f\"/2019/9/{i}/\").json())\n",
    "    day_max = max(day_data[\"predictability\"])\n",
    "    lst.append(day_data[day_data.predictability==day_max][\"min_temp\"].mean())\n",
    "s=sum(lst)\n",
    "k = s/len(lst)\n",
    "k"
   ]
  },
  {
   "cell_type": "code",
   "execution_count": null,
   "metadata": {},
   "outputs": [],
   "source": []
  }
 ],
 "metadata": {
  "kernelspec": {
   "display_name": "Python 3",
   "language": "python",
   "name": "python3"
  },
  "language_info": {
   "codemirror_mode": {
    "name": "ipython",
    "version": 3
   },
   "file_extension": ".py",
   "mimetype": "text/x-python",
   "name": "python",
   "nbconvert_exporter": "python",
   "pygments_lexer": "ipython3",
   "version": "3.7.3"
  }
 },
 "nbformat": 4,
 "nbformat_minor": 2
}
