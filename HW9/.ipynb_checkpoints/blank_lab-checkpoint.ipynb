{
 "cells": [
  {
   "cell_type": "markdown",
   "metadata": {},
   "source": [
    "**Задание 1**\n",
    "\n",
    "1) Используя средства модуля [pandas](https://github.com/dm-fedorov/python3_intro/blob/master/lesson_13/pandas.ipynb), определите среднюю, максималную, минимальную зарплату и среднюю, максималную, минимальную пенсию в Санкт-Петербурге в 2018 году.\n",
    "\n",
    "2) Продемонстрируйте умение построения графиков (для произвольных значений) с помощью plot.\n",
    "\n",
    "\n",
    "**Задание 2**\n",
    "\n",
    "Для [файла](http://dfedorov.spb.ru/python3/forecast.html), расположенного в сети Интернет, напишите сценарий с использованием [модуля bs4](https://github.com/dm-fedorov/python3_intro/blob/master/lesson_13/bs4.ipynb), который извлекает данные и сохраняет их в файле формата CSV, где первый столбец - день недели, второй столбец - погода. \n",
    "\n",
    "**Переходим к решению первой задачи:**"
   ]
  },
  {
   "cell_type": "markdown",
   "metadata": {},
   "source": [
    "Импортируем модуль pandas:"
   ]
  },
  {
   "cell_type": "code",
   "execution_count": 1,
   "metadata": {},
   "outputs": [],
   "source": [
    "import pandas as pd\n",
    "import matplotlib.pyplot as plt\n",
    "%matplotlib inline"
   ]
  },
  {
   "cell_type": "markdown",
   "metadata": {},
   "source": [
    "Читаем содержимое csv файла:"
   ]
  },
  {
   "cell_type": "code",
   "execution_count": 2,
   "metadata": {},
   "outputs": [
    {
     "data": {
      "text/html": [
       "<div>\n",
       "<style scoped>\n",
       "    .dataframe tbody tr th:only-of-type {\n",
       "        vertical-align: middle;\n",
       "    }\n",
       "\n",
       "    .dataframe tbody tr th {\n",
       "        vertical-align: top;\n",
       "    }\n",
       "\n",
       "    .dataframe thead th {\n",
       "        text-align: right;\n",
       "    }\n",
       "</style>\n",
       "<table border=\"1\" class=\"dataframe\">\n",
       "  <thead>\n",
       "    <tr style=\"text-align: right;\">\n",
       "      <th></th>\n",
       "      <th>name</th>\n",
       "      <th>region</th>\n",
       "      <th>date</th>\n",
       "      <th>value</th>\n",
       "    </tr>\n",
       "  </thead>\n",
       "  <tbody>\n",
       "    <tr>\n",
       "      <th>0</th>\n",
       "      <td>Количество заявок на потребительские кредиты</td>\n",
       "      <td>Россия</td>\n",
       "      <td>2013-01-15</td>\n",
       "      <td>571147</td>\n",
       "    </tr>\n",
       "    <tr>\n",
       "      <th>1</th>\n",
       "      <td>Количество заявок на потребительские кредиты</td>\n",
       "      <td>Россия</td>\n",
       "      <td>2013-02-15</td>\n",
       "      <td>504508</td>\n",
       "    </tr>\n",
       "    <tr>\n",
       "      <th>2</th>\n",
       "      <td>Количество заявок на потребительские кредиты</td>\n",
       "      <td>Россия</td>\n",
       "      <td>2013-03-15</td>\n",
       "      <td>628803</td>\n",
       "    </tr>\n",
       "    <tr>\n",
       "      <th>3</th>\n",
       "      <td>Количество заявок на потребительские кредиты</td>\n",
       "      <td>Россия</td>\n",
       "      <td>2013-04-15</td>\n",
       "      <td>836054</td>\n",
       "    </tr>\n",
       "    <tr>\n",
       "      <th>4</th>\n",
       "      <td>Количество заявок на потребительские кредиты</td>\n",
       "      <td>Россия</td>\n",
       "      <td>2013-05-15</td>\n",
       "      <td>867235</td>\n",
       "    </tr>\n",
       "  </tbody>\n",
       "</table>\n",
       "</div>"
      ],
      "text/plain": [
       "                                           name  region        date   value\n",
       "0  Количество заявок на потребительские кредиты  Россия  2013-01-15  571147\n",
       "1  Количество заявок на потребительские кредиты  Россия  2013-02-15  504508\n",
       "2  Количество заявок на потребительские кредиты  Россия  2013-03-15  628803\n",
       "3  Количество заявок на потребительские кредиты  Россия  2013-04-15  836054\n",
       "4  Количество заявок на потребительские кредиты  Россия  2013-05-15  867235"
      ]
     },
     "execution_count": 2,
     "metadata": {},
     "output_type": "execute_result"
    }
   ],
   "source": [
    "data = pd.read_csv('opendata.csv', encoding='cp1251')\n",
    "data.head()"
   ]
  },
  {
   "cell_type": "markdown",
   "metadata": {},
   "source": [
    "Далее пошаговый код..."
   ]
  },
  {
   "cell_type": "code",
   "execution_count": 3,
   "metadata": {},
   "outputs": [
    {
     "name": "stderr",
     "output_type": "stream",
     "text": [
      "C:\\Users\\danii\\Anaconda3\\lib\\site-packages\\ipykernel_launcher.py:1: UserWarning: Boolean Series key will be reindexed to match DataFrame index.\n",
      "  \"\"\"Entry point for launching an IPython kernel.\n"
     ]
    }
   ],
   "source": [
    "salary = data[data['region'] == 'Санкт-Петербург'][data['name'] == 'Средняя зарплата'][data['date'].str.contains('2018')]"
   ]
  },
  {
   "cell_type": "code",
   "execution_count": 8,
   "metadata": {},
   "outputs": [
    {
     "name": "stdout",
     "output_type": "stream",
     "text": [
      "Средняя зарплата:  43176.45\n"
     ]
    }
   ],
   "source": [
    "print(\"Средняя зарплата: \", round(salary.value.mean(), 2))"
   ]
  },
  {
   "cell_type": "code",
   "execution_count": 31,
   "metadata": {},
   "outputs": [
    {
     "name": "stdout",
     "output_type": "stream",
     "text": [
      "Максимальная зарплата:  49700\n"
     ]
    }
   ],
   "source": [
    "print(\"Максимальная зарплата: \", salary.value.max())"
   ]
  },
  {
   "cell_type": "code",
   "execution_count": 32,
   "metadata": {},
   "outputs": [
    {
     "name": "stdout",
     "output_type": "stream",
     "text": [
      "Минимальная зарплата:  31599\n"
     ]
    }
   ],
   "source": [
    "print(\"Минимальная зарплата: \",salary.value.min())"
   ]
  },
  {
   "cell_type": "code",
   "execution_count": 37,
   "metadata": {},
   "outputs": [
    {
     "name": "stderr",
     "output_type": "stream",
     "text": [
      "C:\\Users\\danii\\Anaconda3\\lib\\site-packages\\ipykernel_launcher.py:1: UserWarning: Boolean Series key will be reindexed to match DataFrame index.\n",
      "  \"\"\"Entry point for launching an IPython kernel.\n"
     ]
    }
   ],
   "source": [
    "pension = data[data['region'] == \"Санкт-Петербург\"][data[\"name\"] == \"Средняя пенсия\"][data['date'].str.contains(\"2018\")]"
   ]
  },
  {
   "cell_type": "code",
   "execution_count": 39,
   "metadata": {},
   "outputs": [
    {
     "name": "stdout",
     "output_type": "stream",
     "text": [
      "Средняя пенсия:  17023.45\n"
     ]
    }
   ],
   "source": [
    "print(\"Средняя пенсия: \", round(pension.value.mean(),2))"
   ]
  },
  {
   "cell_type": "code",
   "execution_count": 40,
   "metadata": {},
   "outputs": [
    {
     "name": "stdout",
     "output_type": "stream",
     "text": [
      "Минимальная пенсия : 14694\n"
     ]
    }
   ],
   "source": [
    "print(\"Минимальная пенсия :\", pension.value.min())"
   ]
  },
  {
   "cell_type": "code",
   "execution_count": 41,
   "metadata": {},
   "outputs": [
    {
     "name": "stdout",
     "output_type": "stream",
     "text": [
      "Максимальная пенсия : 19922\n"
     ]
    }
   ],
   "source": [
    "print(\"Максимальная пенсия :\", pension.value.max())"
   ]
  },
  {
   "cell_type": "markdown",
   "metadata": {},
   "source": [
    "**Построениие графиков**"
   ]
  },
  {
   "cell_type": "code",
   "execution_count": 2,
   "metadata": {},
   "outputs": [],
   "source": [
    "import matplotlib.pyplot as plt\n",
    "import math\n",
    "import numpy as np"
   ]
  },
  {
   "cell_type": "code",
   "execution_count": 107,
   "metadata": {},
   "outputs": [
    {
     "data": {
      "text/plain": [
       "[<matplotlib.lines.Line2D at 0x20e552b50b8>,\n",
       " <matplotlib.lines.Line2D at 0x20e552b5c18>,\n",
       " <matplotlib.lines.Line2D at 0x20e552b59b0>,\n",
       " <matplotlib.lines.Line2D at 0x20e552b58d0>,\n",
       " <matplotlib.lines.Line2D at 0x20e552b5780>]"
      ]
     },
     "execution_count": 107,
     "metadata": {},
     "output_type": "execute_result"
    },
    {
     "data": {
      "image/png": "[encoded data removed]",
      "text/plain": [
       "<Figure size 432x288 with 1 Axes>"
      ]
     },
     "metadata": {
      "needs_background": "light"
     },
     "output_type": "display_data"
    }
   ],
   "source": [
    "plt.plot([i**2 for i in range(7)],'red', [math.log10(i) for j in range(1,7)],'green',\n",
    "        [math.sqrt(i) for i in range(7)], 'black', [math.acos(i) for i in np.arange(0.,1.,0.1)], 'orange',\n",
    "        [math.atan(i) for i in range(10)], \"purple\")"
   ]
  },
  {
   "cell_type": "code",
   "execution_count": 12,
   "metadata": {},
   "outputs": [
    {
     "data": {
      "text/plain": [
       "<matplotlib.axes._subplots.AxesSubplot at 0x249ad80f940>"
      ]
     },
     "execution_count": 12,
     "metadata": {},
     "output_type": "execute_result"
    },
    {
     "data": {
      "image/png": "[encoded data removed]",
      "text/plain": [
       "<Figure size 432x288 with 1 Axes>"
      ]
     },
     "metadata": {
      "needs_background": "light"
     },
     "output_type": "display_data"
    }
   ],
   "source": [
    "salary.value.plot.line()"
   ]
  },
  {
   "cell_type": "markdown",
   "metadata": {},
   "source": [
    "**Задание 2**"
   ]
  },
  {
   "cell_type": "code",
   "execution_count": 14,
   "metadata": {},
   "outputs": [],
   "source": [
    "import bs4\n",
    "import csv"
   ]
  },
  {
   "cell_type": "code",
   "execution_count": 15,
   "metadata": {},
   "outputs": [],
   "source": [
    "def read_url(url):\n",
    "    \"\"\" Читает содержимое сайта \"\"\"\n",
    "    import urllib.request    \n",
    "    with urllib.request.urlopen(url) as webpage:\n",
    "        text = webpage.read().decode('utf-8')\n",
    "    return text"
   ]
  },
  {
   "cell_type": "code",
   "execution_count": 16,
   "metadata": {},
   "outputs": [],
   "source": [
    "text = read_url(\"http://dfedorov.spb.ru/python3/forecast.html\")"
   ]
  },
  {
   "cell_type": "code",
   "execution_count": 17,
   "metadata": {},
   "outputs": [],
   "source": [
    "bs = bs4.BeautifulSoup(text, \"html.parser\")"
   ]
  },
  {
   "cell_type": "code",
   "execution_count": 18,
   "metadata": {},
   "outputs": [
    {
     "data": {
      "text/plain": [
       "[<div class=\"forecast-label\"><b>Сегодня ночью</b></div>,\n",
       " <div class=\"forecast-label\"><b>Пятница</b></div>,\n",
       " <div class=\"forecast-label\"><b>Ночь пятницы</b></div>,\n",
       " <div class=\"forecast-label\"><b>Суббота</b></div>,\n",
       " <div class=\"forecast-label\"><b>Субботняя ночь</b></div>,\n",
       " <div class=\"forecast-label\"><b>Воскресенье</b></div>,\n",
       " <div class=\"forecast-label\"><b>Воскресный вечер</b></div>,\n",
       " <div class=\"forecast-label\"><b>Понедельник</b></div>,\n",
       " <div class=\"forecast-label\"><b>Ночь понедельника</b></div>,\n",
       " <div class=\"forecast-label\"><b>Вторник</b></div>,\n",
       " <div class=\"forecast-label\"><b>Вечер вторника</b></div>,\n",
       " <div class=\"forecast-label\"><b>Среда</b></div>,\n",
       " <div class=\"forecast-label\"><b>Ночь среды</b></div>,\n",
       " <div class=\"forecast-label\"><b>Четверг</b></div>]"
      ]
     },
     "execution_count": 18,
     "metadata": {},
     "output_type": "execute_result"
    }
   ],
   "source": [
    "day_list = bs.select('.forecast-label')\n",
    "day_list"
   ]
  },
  {
   "cell_type": "code",
   "execution_count": 19,
   "metadata": {},
   "outputs": [
    {
     "data": {
      "text/plain": [
       "['Сегодня ночью',\n",
       " 'Пятница',\n",
       " 'Ночь пятницы',\n",
       " 'Суббота',\n",
       " 'Субботняя ночь',\n",
       " 'Воскресенье',\n",
       " 'Воскресный вечер',\n",
       " 'Понедельник',\n",
       " 'Ночь понедельника',\n",
       " 'Вторник',\n",
       " 'Вечер вторника',\n",
       " 'Среда',\n",
       " 'Ночь среды',\n",
       " 'Четверг']"
      ]
     },
     "execution_count": 19,
     "metadata": {},
     "output_type": "execute_result"
    }
   ],
   "source": [
    "lst_day = []\n",
    "for i in range(0, len(day_list)):\n",
    "    lst_day.append(day_list[i].text)\n",
    "lst_day"
   ]
  },
  {
   "cell_type": "code",
   "execution_count": 20,
   "metadata": {},
   "outputs": [],
   "source": [
    "weather_list = bs.select('.forecast-text')"
   ]
  },
  {
   "cell_type": "code",
   "execution_count": 22,
   "metadata": {},
   "outputs": [
    {
     "data": {
      "text/plain": [
       "['Небольшая вероятность ливней и гроз до 22:00. Облачно с прояснениями около 66. Ветер юго-западный около 9 миль в час. Вероятность осадков 20%. Возможны новые осадки от десятой до четверти дюйма.',\n",
       " 'Местами солнечно. Высоко около 77, с температурами, падающими приблизительно к 75 днем. Северо-западный ветер от 7 до 12 миль в час, с порывами до 18 миль в час.',\n",
       " 'Облачно с прояснениями около 63. Северный ветер от 7 до 10 миль в час.',\n",
       " 'В основном солнечно, с высокой температурой около 73. Северный ветер около 10 миль в час.',\n",
       " 'Облачно с прояснениями, около 63. Ветер северный, 5-10 миль в час.',\n",
       " 'В основном солнечно, с высотой около 73.',\n",
       " 'Облачно с прояснениями около 64.',\n",
       " 'Преимущественно солнечно, с высоким около 74.',\n",
       " 'В основном ясно, с низким около 65.',\n",
       " 'Солнечный, с высоким около 75.',\n",
       " 'В основном ясно, с низким около 65.',\n",
       " 'Солнечный, с высоким около 77.',\n",
       " 'В основном ясно, с низким около 67.',\n",
       " 'Вероятность дождя после 1 вечера. Преимущественно солнечно, с максимумом около 81. Вероятность осадков составляет 30%.']"
      ]
     },
     "execution_count": 22,
     "metadata": {},
     "output_type": "execute_result"
    }
   ],
   "source": [
    "lst_weather = []\n",
    "for i in range(len(weather_list)):\n",
    "    lst_weather.append(weather_list[i].text)\n",
    "lst_weather"
   ]
  },
  {
   "cell_type": "code",
   "execution_count": 30,
   "metadata": {},
   "outputs": [
    {
     "data": {
      "text/plain": [
       "[('Сегодня ночью',\n",
       "  'Небольшая вероятность ливней и гроз до 22:00. Облачно с прояснениями около 66. Ветер юго-западный около 9 миль в час. Вероятность осадков 20%. Возможны новые осадки от десятой до четверти дюйма.'),\n",
       " ('Пятница',\n",
       "  'Местами солнечно. Высоко около 77, с температурами, падающими приблизительно к 75 днем. Северо-западный ветер от 7 до 12 миль в час, с порывами до 18 миль в час.'),\n",
       " ('Ночь пятницы',\n",
       "  'Облачно с прояснениями около 63. Северный ветер от 7 до 10 миль в час.'),\n",
       " ('Суббота',\n",
       "  'В основном солнечно, с высокой температурой около 73. Северный ветер около 10 миль в час.'),\n",
       " ('Субботняя ночь',\n",
       "  'Облачно с прояснениями, около 63. Ветер северный, 5-10 миль в час.'),\n",
       " ('Воскресенье', 'В основном солнечно, с высотой около 73.'),\n",
       " ('Воскресный вечер', 'Облачно с прояснениями около 64.'),\n",
       " ('Понедельник', 'Преимущественно солнечно, с высоким около 74.'),\n",
       " ('Ночь понедельника', 'В основном ясно, с низким около 65.'),\n",
       " ('Вторник', 'Солнечный, с высоким около 75.'),\n",
       " ('Вечер вторника', 'В основном ясно, с низким около 65.'),\n",
       " ('Среда', 'Солнечный, с высоким около 77.'),\n",
       " ('Ночь среды', 'В основном ясно, с низким около 67.'),\n",
       " ('Четверг',\n",
       "  'Вероятность дождя после 1 вечера. Преимущественно солнечно, с максимумом около 81. Вероятность осадков составляет 30%.')]"
      ]
     },
     "execution_count": 30,
     "metadata": {},
     "output_type": "execute_result"
    }
   ],
   "source": [
    "massiv_sum = list(zip(lst_day, lst_weather))\n",
    "massiv_sum_result = []\n",
    "massiv_sum"
   ]
  },
  {
   "cell_type": "code",
   "execution_count": 31,
   "metadata": {},
   "outputs": [
    {
     "data": {
      "text/plain": [
       "[['Сегодня ночью',\n",
       "  'Небольшая вероятность ливней и гроз до 22:00. Облачно с прояснениями около 66. Ветер юго-западный около 9 миль в час. Вероятность осадков 20%. Возможны новые осадки от десятой до четверти дюйма.'],\n",
       " ['Пятница',\n",
       "  'Местами солнечно. Высоко около 77, с температурами, падающими приблизительно к 75 днем. Северо-западный ветер от 7 до 12 миль в час, с порывами до 18 миль в час.'],\n",
       " ['Ночь пятницы',\n",
       "  'Облачно с прояснениями около 63. Северный ветер от 7 до 10 миль в час.'],\n",
       " ['Суббота',\n",
       "  'В основном солнечно, с высокой температурой около 73. Северный ветер около 10 миль в час.'],\n",
       " ['Субботняя ночь',\n",
       "  'Облачно с прояснениями, около 63. Ветер северный, 5-10 миль в час.'],\n",
       " ['Воскресенье', 'В основном солнечно, с высотой около 73.'],\n",
       " ['Воскресный вечер', 'Облачно с прояснениями около 64.'],\n",
       " ['Понедельник', 'Преимущественно солнечно, с высоким около 74.'],\n",
       " ['Ночь понедельника', 'В основном ясно, с низким около 65.'],\n",
       " ['Вторник', 'Солнечный, с высоким около 75.'],\n",
       " ['Вечер вторника', 'В основном ясно, с низким около 65.'],\n",
       " ['Среда', 'Солнечный, с высоким около 77.'],\n",
       " ['Ночь среды', 'В основном ясно, с низким около 67.'],\n",
       " ['Четверг',\n",
       "  'Вероятность дождя после 1 вечера. Преимущественно солнечно, с максимумом около 81. Вероятность осадков составляет 30%.']]"
      ]
     },
     "execution_count": 31,
     "metadata": {},
     "output_type": "execute_result"
    }
   ],
   "source": [
    "for item in massiv_sum:\n",
    "    massiv_sum_result.append(list(item))\n",
    "massiv_sum_result"
   ]
  },
  {
   "cell_type": "code",
   "execution_count": 32,
   "metadata": {},
   "outputs": [],
   "source": [
    "with open('weather.csv', mode='w') as weather_file:\n",
    "    weather_file = csv.writer(weather_file, lineterminator=\"\\n\")\n",
    "    for line in massiv_sum_result:\n",
    "        weather_file.writerow(line)\n",
    "    \n",
    "   "
   ]
  },
  {
   "cell_type": "code",
   "execution_count": null,
   "metadata": {},
   "outputs": [],
   "source": []
  }
 ],
 "metadata": {
  "kernelspec": {
   "display_name": "Python 3",
   "language": "python",
   "name": "python3"
  },
  "language_info": {
   "codemirror_mode": {
    "name": "ipython",
    "version": 3
   },
   "file_extension": ".py",
   "mimetype": "text/x-python",
   "name": "python",
   "nbconvert_exporter": "python",
   "pygments_lexer": "ipython3",
   "version": "3.7.3"
  }
 },
 "nbformat": 4,
 "nbformat_minor": 2
}
